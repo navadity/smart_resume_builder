{
  "nbformat": 4,
  "nbformat_minor": 0,
  "metadata": {
    "colab": {
      "provenance": [],
      "authorship_tag": "ABX9TyPffz7m1KsbQPoJ+zf8SfUV",
      "include_colab_link": true
    },
    "kernelspec": {
      "name": "python3",
      "display_name": "Python 3"
    },
    "language_info": {
      "name": "python"
    }
  },
  "cells": [
    {
      "cell_type": "markdown",
      "metadata": {
        "id": "view-in-github",
        "colab_type": "text"
      },
      "source": [
        "<a href=\"https://colab.research.google.com/github/navadity/smart_resume_builder/blob/main/app.ipynb\" target=\"_parent\"><img src=\"https://colab.research.google.com/assets/colab-badge.svg\" alt=\"Open In Colab\"/></a>"
      ]
    },
    {
      "cell_type": "code",
      "execution_count": 1,
      "metadata": {
        "colab": {
          "base_uri": "https://localhost:8080/",
          "height": 383
        },
        "id": "EvfDBcmxVtV2",
        "outputId": "93dbcc1d-db71-4541-c7c9-6b60ec305190"
      },
      "outputs": [
        {
          "output_type": "error",
          "ename": "ModuleNotFoundError",
          "evalue": "No module named 'streamlit'",
          "traceback": [
            "\u001b[0;31m---------------------------------------------------------------------------\u001b[0m",
            "\u001b[0;31mModuleNotFoundError\u001b[0m                       Traceback (most recent call last)",
            "\u001b[0;32m<ipython-input-1-4436a99f64e9>\u001b[0m in \u001b[0;36m<cell line: 0>\u001b[0;34m()\u001b[0m\n\u001b[0;32m----> 1\u001b[0;31m \u001b[0;32mimport\u001b[0m \u001b[0mstreamlit\u001b[0m \u001b[0;32mas\u001b[0m \u001b[0mst\u001b[0m\u001b[0;34m\u001b[0m\u001b[0;34m\u001b[0m\u001b[0m\n\u001b[0m\u001b[1;32m      2\u001b[0m \u001b[0;32mfrom\u001b[0m \u001b[0mpypdf\u001b[0m \u001b[0;32mimport\u001b[0m \u001b[0mPdfReader\u001b[0m\u001b[0;34m\u001b[0m\u001b[0;34m\u001b[0m\u001b[0m\n\u001b[1;32m      3\u001b[0m \u001b[0;32mimport\u001b[0m \u001b[0mre\u001b[0m\u001b[0;34m\u001b[0m\u001b[0;34m\u001b[0m\u001b[0m\n\u001b[1;32m      4\u001b[0m \u001b[0;32mimport\u001b[0m \u001b[0mjson\u001b[0m\u001b[0;34m\u001b[0m\u001b[0;34m\u001b[0m\u001b[0m\n\u001b[1;32m      5\u001b[0m \u001b[0;34m\u001b[0m\u001b[0m\n",
            "\u001b[0;31mModuleNotFoundError\u001b[0m: No module named 'streamlit'",
            "",
            "\u001b[0;31m---------------------------------------------------------------------------\u001b[0;32m\nNOTE: If your import is failing due to a missing package, you can\nmanually install dependencies using either !pip or !apt.\n\nTo view examples of installing some common dependencies, click the\n\"Open Examples\" button below.\n\u001b[0;31m---------------------------------------------------------------------------\u001b[0m\n"
          ],
          "errorDetails": {
            "actions": [
              {
                "action": "open_url",
                "actionText": "Open Examples",
                "url": "/notebooks/snippets/importing_libraries.ipynb"
              }
            ]
          }
        }
      ],
      "source": [
        "import streamlit as st\n",
        "from pypdf import PdfReader\n",
        "import re\n",
        "import json\n",
        "\n",
        "# Sample skills DB (you can load this from a JSON file later)\n",
        "skills_db = [\n",
        "    \"python\", \"java\", \"sql\", \"excel\", \"communication\",\n",
        "    \"tensorflow\", \"docker\", \"leadership\", \"pandas\", \"git\"\n",
        "]\n",
        "\n",
        "st.set_page_config(page_title=\"Smart Resume Analyzer\", layout=\"centered\")\n",
        "\n",
        "st.title(\"📄 Smart Resume Analyzer\")\n",
        "st.markdown(\"Upload your resume and paste a job description to see how well they match.\")\n",
        "\n",
        "uploaded_file = st.file_uploader(\"📤 Upload your resume (PDF)\", type=[\"pdf\"])\n",
        "job_description = st.text_area(\"📝 Paste the Job Description here\")\n",
        "\n",
        "# Extract skills from text\n",
        "def extract_skills(text, skills_db):\n",
        "    text = text.lower()\n",
        "    return list({skill for skill in skills_db if re.search(rf\"\\b{re.escape(skill)}\\b\", text)})\n",
        "\n",
        "# Parse resume PDF\n",
        "\n",
        "def parse_resume_text(file):\n",
        "    reader = PdfReader(file)\n",
        "    text = \"\"\n",
        "    for page in reader.pages:\n",
        "        page_text = page.extract_text()\n",
        "        if page_text:\n",
        "            text += page_text\n",
        "    return text\n",
        "\n",
        "if uploaded_file and job_description:\n",
        "    resume_text = parse_resume_text(uploaded_file)\n",
        "    resume_skills = extract_skills(resume_text, skills_db)\n",
        "    jd_skills = extract_skills(job_description, skills_db)\n",
        "\n",
        "    matched = set(resume_skills) & set(jd_skills)\n",
        "    missing = set(jd_skills) - set(resume_skills)\n",
        "    score = round(len(matched) / len(jd_skills) * 100, 2) if jd_skills else 0\n",
        "\n",
        "    st.success(f\"✅ Match Score: {score}%\")\n",
        "    st.markdown(\"### ✅ Matched Skills\")\n",
        "    st.write(\", \".join(matched) if matched else \"None\")\n",
        "\n",
        "    st.markdown(\"### ❌ Missing Skills\")\n",
        "    st.write(\", \".join(missing) if missing else \"None\")\n",
        "\n",
        "    st.markdown(\"### 📋 All Resume Skills\")\n",
        "    st.write(\", \".join(resume_skills))"
      ]
    }
  ]
}